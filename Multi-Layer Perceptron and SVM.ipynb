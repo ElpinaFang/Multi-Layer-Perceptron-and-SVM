{
 "cells": [
  {
   "cell_type": "code",
   "execution_count": 1,
   "id": "97586a0a-6816-4baa-8ef8-33dcd5bec9b6",
   "metadata": {},
   "outputs": [],
   "source": [
    "import numpy as np\n",
    "import pandas as pd\n",
    "import seaborn as sns\n",
    "import matplotlib.pyplot as plt\n",
    "from sklearn.metrics import confusion_matrix, classification_report\n",
    "from sklearn.model_selection import learning_curve, train_test_split\n",
    "from sklearn.preprocessing import LabelEncoder, OneHotEncoder, StandardScaler\n",
    "from sklearn.svm import LinearSVC"
   ]
  },
  {
   "cell_type": "code",
   "execution_count": 2,
   "id": "01b9ab7d-96c0-4eef-a455-1aae5b516ee3",
   "metadata": {},
   "outputs": [
    {
     "data": {
      "text/html": [
       "<div>\n",
       "<style scoped>\n",
       "    .dataframe tbody tr th:only-of-type {\n",
       "        vertical-align: middle;\n",
       "    }\n",
       "\n",
       "    .dataframe tbody tr th {\n",
       "        vertical-align: top;\n",
       "    }\n",
       "\n",
       "    .dataframe thead th {\n",
       "        text-align: right;\n",
       "    }\n",
       "</style>\n",
       "<table border=\"1\" class=\"dataframe\">\n",
       "  <thead>\n",
       "    <tr style=\"text-align: right;\">\n",
       "      <th></th>\n",
       "      <th>x1</th>\n",
       "      <th>x2</th>\n",
       "      <th>class</th>\n",
       "    </tr>\n",
       "  </thead>\n",
       "  <tbody>\n",
       "    <tr>\n",
       "      <th>0</th>\n",
       "      <td>4.1</td>\n",
       "      <td>1.3</td>\n",
       "      <td>c1</td>\n",
       "    </tr>\n",
       "    <tr>\n",
       "      <th>1</th>\n",
       "      <td>4.2</td>\n",
       "      <td>1.3</td>\n",
       "      <td>c1</td>\n",
       "    </tr>\n",
       "    <tr>\n",
       "      <th>2</th>\n",
       "      <td>4.3</td>\n",
       "      <td>1.3</td>\n",
       "      <td>c1</td>\n",
       "    </tr>\n",
       "    <tr>\n",
       "      <th>3</th>\n",
       "      <td>4.4</td>\n",
       "      <td>1.4</td>\n",
       "      <td>c1</td>\n",
       "    </tr>\n",
       "    <tr>\n",
       "      <th>4</th>\n",
       "      <td>4.5</td>\n",
       "      <td>1.6</td>\n",
       "      <td>c1</td>\n",
       "    </tr>\n",
       "    <tr>\n",
       "      <th>5</th>\n",
       "      <td>4.6</td>\n",
       "      <td>1.4</td>\n",
       "      <td>c1</td>\n",
       "    </tr>\n",
       "    <tr>\n",
       "      <th>6</th>\n",
       "      <td>4.7</td>\n",
       "      <td>1.2</td>\n",
       "      <td>c1</td>\n",
       "    </tr>\n",
       "    <tr>\n",
       "      <th>7</th>\n",
       "      <td>4.7</td>\n",
       "      <td>1.5</td>\n",
       "      <td>c1</td>\n",
       "    </tr>\n",
       "    <tr>\n",
       "      <th>8</th>\n",
       "      <td>4.8</td>\n",
       "      <td>1.4</td>\n",
       "      <td>c1</td>\n",
       "    </tr>\n",
       "    <tr>\n",
       "      <th>9</th>\n",
       "      <td>4.9</td>\n",
       "      <td>1.5</td>\n",
       "      <td>c1</td>\n",
       "    </tr>\n",
       "    <tr>\n",
       "      <th>10</th>\n",
       "      <td>5.1</td>\n",
       "      <td>1.8</td>\n",
       "      <td>c2</td>\n",
       "    </tr>\n",
       "    <tr>\n",
       "      <th>11</th>\n",
       "      <td>5.1</td>\n",
       "      <td>2.4</td>\n",
       "      <td>c2</td>\n",
       "    </tr>\n",
       "    <tr>\n",
       "      <th>12</th>\n",
       "      <td>5.3</td>\n",
       "      <td>1.9</td>\n",
       "      <td>c2</td>\n",
       "    </tr>\n",
       "    <tr>\n",
       "      <th>13</th>\n",
       "      <td>5.3</td>\n",
       "      <td>2.3</td>\n",
       "      <td>c2</td>\n",
       "    </tr>\n",
       "    <tr>\n",
       "      <th>14</th>\n",
       "      <td>5.5</td>\n",
       "      <td>2.1</td>\n",
       "      <td>c2</td>\n",
       "    </tr>\n",
       "    <tr>\n",
       "      <th>15</th>\n",
       "      <td>5.5</td>\n",
       "      <td>1.8</td>\n",
       "      <td>c2</td>\n",
       "    </tr>\n",
       "    <tr>\n",
       "      <th>16</th>\n",
       "      <td>5.7</td>\n",
       "      <td>2.3</td>\n",
       "      <td>c2</td>\n",
       "    </tr>\n",
       "    <tr>\n",
       "      <th>17</th>\n",
       "      <td>5.8</td>\n",
       "      <td>2.2</td>\n",
       "      <td>c2</td>\n",
       "    </tr>\n",
       "    <tr>\n",
       "      <th>18</th>\n",
       "      <td>5.9</td>\n",
       "      <td>2.1</td>\n",
       "      <td>c2</td>\n",
       "    </tr>\n",
       "    <tr>\n",
       "      <th>19</th>\n",
       "      <td>6.1</td>\n",
       "      <td>2.5</td>\n",
       "      <td>c2</td>\n",
       "    </tr>\n",
       "  </tbody>\n",
       "</table>\n",
       "</div>"
      ],
      "text/plain": [
       "     x1   x2 class\n",
       "0   4.1  1.3    c1\n",
       "1   4.2  1.3    c1\n",
       "2   4.3  1.3    c1\n",
       "3   4.4  1.4    c1\n",
       "4   4.5  1.6    c1\n",
       "5   4.6  1.4    c1\n",
       "6   4.7  1.2    c1\n",
       "7   4.7  1.5    c1\n",
       "8   4.8  1.4    c1\n",
       "9   4.9  1.5    c1\n",
       "10  5.1  1.8    c2\n",
       "11  5.1  2.4    c2\n",
       "12  5.3  1.9    c2\n",
       "13  5.3  2.3    c2\n",
       "14  5.5  2.1    c2\n",
       "15  5.5  1.8    c2\n",
       "16  5.7  2.3    c2\n",
       "17  5.8  2.2    c2\n",
       "18  5.9  2.1    c2\n",
       "19  6.1  2.5    c2"
      ]
     },
     "execution_count": 2,
     "metadata": {},
     "output_type": "execute_result"
    }
   ],
   "source": [
    "df = pd.read_csv(\"iris.csv\")\n",
    "df"
   ]
  },
  {
   "cell_type": "code",
   "execution_count": 3,
   "id": "ae5be7e4-e6cc-4168-a48f-e91fa18a5e68",
   "metadata": {},
   "outputs": [],
   "source": [
    "X = df.iloc[:, :-1].values\n",
    "y = df.iloc[:, -1].values"
   ]
  },
  {
   "cell_type": "code",
   "execution_count": 4,
   "id": "2c88317c-eca5-4ba2-9194-39f9e1179f5e",
   "metadata": {},
   "outputs": [],
   "source": [
    "# Question 1"
   ]
  },
  {
   "cell_type": "code",
   "execution_count": 5,
   "id": "b7563c96-9f2c-4f49-ba4e-37ecd1590de5",
   "metadata": {
    "tags": []
   },
   "outputs": [],
   "source": [
    "X_train, X_test, y_train, y_test = train_test_split(X, y, test_size=0.3)\n",
    "\n",
    "X_train_ori = X_train\n",
    "X_test_ori = X_test\n",
    "y_train_ori = y_train\n",
    "y_test_ori = y_test\n",
    "\n",
    "X_train = StandardScaler().fit_transform(X_train)\n",
    "X_test = StandardScaler().fit_transform(X_test)\n",
    "\n",
    "encoder = OneHotEncoder().fit(y.reshape(-1, 1))\n",
    "y_train = encoder.transform(y_train.reshape(-1, 1))\n",
    "y_test = encoder.transform(y_test.reshape(-1, 1))"
   ]
  },
  {
   "cell_type": "code",
   "execution_count": 6,
   "id": "a3d4d57e-acd1-4a37-a41d-216ace22d037",
   "metadata": {},
   "outputs": [],
   "source": [
    "X_train_df = pd.DataFrame(X_train, columns=[\"x1\", \"x2\"])\n",
    "y_train_df = pd.DataFrame(y_train_ori, columns=[\"class\"])\n",
    "train_df = pd.concat([X_train_df, y_train_df], axis=1)"
   ]
  },
  {
   "cell_type": "code",
   "execution_count": 7,
   "id": "24fbc869-655b-4129-b71d-e65a6ddd1798",
   "metadata": {
    "tags": []
   },
   "outputs": [],
   "source": [
    "def sigmoid(x):\n",
    "    return 1 / (1 + np.exp(-x))\n",
    "\n",
    "def sigmoid_deriv(x):\n",
    "    return x * (1 - x)"
   ]
  },
  {
   "cell_type": "code",
   "execution_count": 8,
   "id": "9bca5ecf-a57b-498d-96a9-f8e0545a9e91",
   "metadata": {},
   "outputs": [],
   "source": [
    "class NeuralNetwork: \n",
    "    def __init__(self, num_i, num_o, num_h, encoder):\n",
    "        self.w1 = np.random.uniform(-1, 1, (num_i, num_h))\n",
    "        self.w2 = np.random.uniform(-1, 1, (num_h, num_o))\n",
    "        self.b1 = np.random.uniform(0, 1, (1, num_h))\n",
    "        self.b2 = np.random.uniform(0, 1, (1, num_o))\n",
    "        self.layer1 = np.zeros((num_i, num_h))\n",
    "        self.layer2 = np.zeros((num_h, num_o))\n",
    "        self.enc = encoder\n",
    "        self.errors = []\n",
    "                        \n",
    "    def feedforward(self, x):\n",
    "        self.layer1 = sigmoid(np.dot(x, self.w1) + self.b1)\n",
    "        self.layer2 = sigmoid(np.dot(self.layer1, self.w2) + self.b2)\n",
    "        \n",
    "    def backpropogation(self, x, y, learning_rate):\n",
    "        error_layer2 = (y - self.layer2) * sigmoid_deriv(self.layer2)\n",
    "        error_layer1 = (error_layer2.dot(self.w2.T)) * sigmoid_deriv(self.layer1)\n",
    "        self.w2 += self.layer1.T.dot(error_layer2) * learning_rate\n",
    "        self.b2 += np.sum(error_layer2, axis=0, keepdims=True) * learning_rate\n",
    "        self.w1 += x.T.dot(error_layer1) * learning_rate\n",
    "        self.b1 += np.sum(error_layer1, axis=0, keepdims=True) * learning_rate\n",
    "        return error_layer1.sum()\n",
    "    \n",
    "    def fit(self, x, y, learning_rate, epoch):\n",
    "        for i in range(epoch):\n",
    "            self.feedforward(x)\n",
    "            self.errors.append(self.backpropogation(x, y, learning_rate))\n",
    "            if i == 0: \n",
    "                print(\"w1 =\", self.w1)\n",
    "                print(\"w2 =\", self.w2)\n",
    "\n",
    "    def predict(self, x):\n",
    "        layer1 = sigmoid(np.dot(x, self.w1) + self.b1)\n",
    "        layer2 = sigmoid(np.dot(layer1, self.w2) + self.b2) \n",
    "        return encoder.inverse_transform(layer2)"
   ]
  },
  {
   "cell_type": "code",
   "execution_count": 9,
   "id": "9deb4a74-5d25-4f06-93d8-84c709856eba",
   "metadata": {},
   "outputs": [],
   "source": [
    "def plot_learning_curve(clf, x=None, y=None):\n",
    "    if x is not None and y is not None:\n",
    "        train_sizes, train_scores, test_scores, fit_times, _ = learning_curve(clf, x, y, n_jobs=10, return_times=True)\n",
    "        plt.plot(train_sizes, np.mean(train_scores, axis=1))\n",
    "    else: \n",
    "        plt.plot([1 - i for i in clf.errors])\n",
    "    plt.title(\"Learning curve\")\n",
    "    plt.ylabel(\"Training error\")\n",
    "    plt.xlabel(\"Epoch\")\n",
    "    return plt"
   ]
  },
  {
   "cell_type": "code",
   "execution_count": 10,
   "id": "0e84f658-9ae3-4982-a2c2-e4de3fc49d69",
   "metadata": {},
   "outputs": [],
   "source": [
    "def plot_region_boundary(clf, x, df): \n",
    "    X = x\n",
    "    x1_min, x1_max = X[:, 0].min() - 1, X[:, 0].max() + 1\n",
    "    x2_min, x2_max = X[:, 1].min() - 1, X[:, 1].max() + 1\n",
    "    xx1, xx2 = np.meshgrid(np.arange(x1_min, x1_max, 0.02), np.arange(x2_min, x2_max, 0.02))\n",
    "    Z = clf.predict(np.c_[xx1.ravel(), xx2.ravel()])\n",
    "    Zt = LabelEncoder().fit_transform(Z.reshape(-1,)).reshape(xx1.shape)\n",
    "    \n",
    "    sns.scatterplot(x=\"x1\", y=\"x2\", hue=\"class\", data=df)\n",
    "    plt.contourf(xx1, xx2, Zt, cmap=\"coolwarm\", alpha=0.5)\n",
    "    plt.xlim(xx1.min(), xx1.max())\n",
    "    plt.ylim(xx2.min(), xx2.max())\n",
    "    plt.title(\"Region boundary\")\n",
    "    return plt"
   ]
  },
  {
   "cell_type": "code",
   "execution_count": 11,
   "id": "2dd78558-9330-4b55-9635-bb5c621e9633",
   "metadata": {},
   "outputs": [],
   "source": [
    "def evaluate_performance(y_true, y_pred):\n",
    "    print(confusion_matrix(y_true, y_pred))\n",
    "    print(classification_report(y_true, y_pred, target_names=[\"c1\", \"c2\"], zero_division=1))"
   ]
  },
  {
   "cell_type": "code",
   "execution_count": 12,
   "id": "6edc72e6-f0ff-4770-8242-b32bc79b56e2",
   "metadata": {},
   "outputs": [
    {
     "name": "stdout",
     "output_type": "stream",
     "text": [
      "w1 = [[-0.49709351  0.59965395  0.40995468]\n",
      " [ 0.39518571 -0.51794646 -0.31068961]]\n",
      "w2 = [[ 0.13660628 -0.4711338 ]\n",
      " [ 0.7453793  -0.02852218]\n",
      " [-0.23298283  0.7916238 ]]\n"
     ]
    }
   ],
   "source": [
    "epoch = 10\n",
    "learning_rate = 0.1\n",
    "num_input_neurons = 2\n",
    "num_output_neurons = 2\n",
    "num_hidden_neurons = 3\n",
    "\n",
    "mlp = NeuralNetwork(num_input_neurons, num_output_neurons, num_hidden_neurons, encoder)\n",
    "mlp.fit(X_train, y_train.toarray(), learning_rate, epoch)"
   ]
  },
  {
   "cell_type": "code",
   "execution_count": 13,
   "id": "863436e6-1e29-484a-95c9-d4e253acd8d9",
   "metadata": {},
   "outputs": [
    {
     "data": {
      "image/png": "[encoded data removed]",
      "text/plain": [
       "<Figure size 432x288 with 1 Axes>"
      ]
     },
     "metadata": {
      "needs_background": "light"
     },
     "output_type": "display_data"
    }
   ],
   "source": [
    "plt = plot_learning_curve(mlp)\n",
    "plt.show()"
   ]
  },
  {
   "cell_type": "code",
   "execution_count": 14,
   "id": "45260283-4b79-4eda-8a21-3473d2efcd34",
   "metadata": {},
   "outputs": [
    {
     "data": {
      "image/png": "[encoded data removed]",
      "text/plain": [
       "<Figure size 432x288 with 1 Axes>"
      ]
     },
     "metadata": {
      "needs_background": "light"
     },
     "output_type": "display_data"
    }
   ],
   "source": [
    "plt = plot_region_boundary(mlp, X_train, train_df)\n",
    "plt.show()"
   ]
  },
  {
   "cell_type": "code",
   "execution_count": 15,
   "id": "01e3cbc4",
   "metadata": {},
   "outputs": [
    {
     "name": "stdout",
     "output_type": "stream",
     "text": [
      "[[9 0]\n",
      " [5 0]]\n",
      "              precision    recall  f1-score   support\n",
      "\n",
      "          c1       0.64      1.00      0.78         9\n",
      "          c2       1.00      0.00      0.00         5\n",
      "\n",
      "    accuracy                           0.64        14\n",
      "   macro avg       0.82      0.50      0.39        14\n",
      "weighted avg       0.77      0.64      0.50        14\n",
      "\n"
     ]
    }
   ],
   "source": [
    "evaluate_performance(encoder.inverse_transform(y_train), mlp.predict(X_train))"
   ]
  },
  {
   "cell_type": "code",
   "execution_count": 16,
   "id": "2b9aaf91-15dd-4827-8926-c628fa6f77f1",
   "metadata": {},
   "outputs": [
    {
     "name": "stdout",
     "output_type": "stream",
     "text": [
      "[[1 0]\n",
      " [5 0]]\n",
      "              precision    recall  f1-score   support\n",
      "\n",
      "          c1       0.17      1.00      0.29         1\n",
      "          c2       1.00      0.00      0.00         5\n",
      "\n",
      "    accuracy                           0.17         6\n",
      "   macro avg       0.58      0.50      0.14         6\n",
      "weighted avg       0.86      0.17      0.05         6\n",
      "\n"
     ]
    }
   ],
   "source": [
    "evaluate_performance(encoder.inverse_transform(y_test), mlp.predict(X_test))"
   ]
  },
  {
   "cell_type": "code",
   "execution_count": 17,
   "id": "7106412b-dd18-4e34-a76b-66ad15a6cb4c",
   "metadata": {},
   "outputs": [],
   "source": [
    "# Question 2"
   ]
  },
  {
   "cell_type": "code",
   "execution_count": 18,
   "id": "3bdc87f9-705b-4835-9539-134255c961fa",
   "metadata": {},
   "outputs": [],
   "source": [
    "svm = LinearSVC()\n",
    "for i in range(10):\n",
    "    svm.fit(X_train, y_train_ori)"
   ]
  },
  {
   "cell_type": "code",
   "execution_count": 19,
   "id": "653c30fa-d84c-4c2b-a5c1-82deddd84b80",
   "metadata": {},
   "outputs": [
    {
     "data": {
      "image/png": "[encoded data removed]",
      "text/plain": [
       "<Figure size 432x288 with 1 Axes>"
      ]
     },
     "metadata": {
      "needs_background": "light"
     },
     "output_type": "display_data"
    }
   ],
   "source": [
    "plt = plot_learning_curve(svm, X_train_ori, y_train_ori)\n",
    "plt.show()"
   ]
  },
  {
   "cell_type": "code",
   "execution_count": 20,
   "id": "a0fa7296-bff6-4bff-b5d9-64ba5359b7ba",
   "metadata": {},
   "outputs": [
    {
     "data": {
      "image/png": "[encoded data removed]",
      "text/plain": [
       "<Figure size 432x288 with 1 Axes>"
      ]
     },
     "metadata": {
      "needs_background": "light"
     },
     "output_type": "display_data"
    }
   ],
   "source": [
    "plt = plot_region_boundary(svm, X_train, train_df)\n",
    "plt.show()"
   ]
  },
  {
   "cell_type": "code",
   "execution_count": 21,
   "id": "7429135f",
   "metadata": {},
   "outputs": [
    {
     "name": "stdout",
     "output_type": "stream",
     "text": [
      "[[9 0]\n",
      " [0 5]]\n",
      "              precision    recall  f1-score   support\n",
      "\n",
      "          c1       1.00      1.00      1.00         9\n",
      "          c2       1.00      1.00      1.00         5\n",
      "\n",
      "    accuracy                           1.00        14\n",
      "   macro avg       1.00      1.00      1.00        14\n",
      "weighted avg       1.00      1.00      1.00        14\n",
      "\n"
     ]
    }
   ],
   "source": [
    "evaluate_performance(y_train_ori, svm.predict(X_train))"
   ]
  },
  {
   "cell_type": "code",
   "execution_count": 22,
   "id": "cd51558c-6704-4161-9bdf-af7535fef0e4",
   "metadata": {},
   "outputs": [
    {
     "name": "stdout",
     "output_type": "stream",
     "text": [
      "[[1 0]\n",
      " [2 3]]\n",
      "              precision    recall  f1-score   support\n",
      "\n",
      "          c1       0.33      1.00      0.50         1\n",
      "          c2       1.00      0.60      0.75         5\n",
      "\n",
      "    accuracy                           0.67         6\n",
      "   macro avg       0.67      0.80      0.62         6\n",
      "weighted avg       0.89      0.67      0.71         6\n",
      "\n"
     ]
    }
   ],
   "source": [
    "evaluate_performance(y_test_ori, svm.predict(X_test))"
   ]
  },
  {
   "cell_type": "code",
   "execution_count": 23,
   "id": "04df40f0-4f49-47e3-a6be-558ee08dae57",
   "metadata": {},
   "outputs": [],
   "source": [
    "svm_sm = LinearSVC(C=50.0)\n",
    "for i in range(10):\n",
    "    svm_sm.fit(X_train, y_train_ori)"
   ]
  },
  {
   "cell_type": "code",
   "execution_count": 24,
   "id": "67737397-8cc5-4979-9c96-0b4f1b72b351",
   "metadata": {},
   "outputs": [
    {
     "data": {
      "image/png": "[encoded data removed]",
      "text/plain": [
       "<Figure size 432x288 with 1 Axes>"
      ]
     },
     "metadata": {
      "needs_background": "light"
     },
     "output_type": "display_data"
    }
   ],
   "source": [
    "plt = plot_learning_curve(svm_sm, X_train_ori, y_train_ori)\n",
    "plt.show()"
   ]
  },
  {
   "cell_type": "code",
   "execution_count": 25,
   "id": "3abaef85-3cbc-4dff-8064-e51a6d00bf37",
   "metadata": {},
   "outputs": [
    {
     "data": {
      "image/png": "[encoded data removed]",
      "text/plain": [
       "<Figure size 432x288 with 1 Axes>"
      ]
     },
     "metadata": {
      "needs_background": "light"
     },
     "output_type": "display_data"
    }
   ],
   "source": [
    "plt = plot_region_boundary(svm_sm, X_train, train_df)\n",
    "plt.show()"
   ]
  },
  {
   "cell_type": "code",
   "execution_count": 26,
   "id": "a9f2f2de",
   "metadata": {},
   "outputs": [
    {
     "name": "stdout",
     "output_type": "stream",
     "text": [
      "[[9 0]\n",
      " [0 5]]\n",
      "              precision    recall  f1-score   support\n",
      "\n",
      "          c1       1.00      1.00      1.00         9\n",
      "          c2       1.00      1.00      1.00         5\n",
      "\n",
      "    accuracy                           1.00        14\n",
      "   macro avg       1.00      1.00      1.00        14\n",
      "weighted avg       1.00      1.00      1.00        14\n",
      "\n"
     ]
    }
   ],
   "source": [
    "evaluate_performance(y_train_ori, svm_sm.predict(X_train))"
   ]
  },
  {
   "cell_type": "code",
   "execution_count": 27,
   "id": "ab281010-47d5-4262-8c6f-197803138d1a",
   "metadata": {},
   "outputs": [
    {
     "name": "stdout",
     "output_type": "stream",
     "text": [
      "[[1 0]\n",
      " [2 3]]\n",
      "              precision    recall  f1-score   support\n",
      "\n",
      "          c1       0.33      1.00      0.50         1\n",
      "          c2       1.00      0.60      0.75         5\n",
      "\n",
      "    accuracy                           0.67         6\n",
      "   macro avg       0.67      0.80      0.62         6\n",
      "weighted avg       0.89      0.67      0.71         6\n",
      "\n"
     ]
    }
   ],
   "source": [
    "evaluate_performance(y_test_ori, svm_sm.predict(X_test))"
   ]
  }
 ],
 "metadata": {
  "kernelspec": {
   "display_name": "Python 3 (ipykernel)",
   "language": "python",
   "name": "python3"
  },
  "language_info": {
   "codemirror_mode": {
    "name": "ipython",
    "version": 3
   },
   "file_extension": ".py",
   "mimetype": "text/x-python",
   "name": "python",
   "nbconvert_exporter": "python",
   "pygments_lexer": "ipython3",
   "version": "3.9.7"
  }
 },
 "nbformat": 4,
 "nbformat_minor": 5
}
